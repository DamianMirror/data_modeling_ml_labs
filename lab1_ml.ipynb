{
 "cells": [
  {
   "cell_type": "code",
   "id": "initial_id",
   "metadata": {
    "collapsed": true,
    "ExecuteTime": {
     "end_time": "2025-09-24T06:21:59.482928Z",
     "start_time": "2025-09-24T06:21:59.477109Z"
    }
   },
   "source": [
    "import seaborn as sns\n",
    "import numpy as np\n",
    "import matplotlib.pyplot as plt"
   ],
   "outputs": [],
   "execution_count": 6
  },
  {
   "metadata": {
    "ExecuteTime": {
     "end_time": "2025-09-24T06:20:45.320987Z",
     "start_time": "2025-09-24T06:20:44.802229Z"
    }
   },
   "cell_type": "code",
   "source": "penguins = sns.load_dataset(\"penguins\")",
   "id": "76ff32af4c37cd40",
   "outputs": [],
   "execution_count": 4
  },
  {
   "metadata": {
    "ExecuteTime": {
     "end_time": "2025-09-24T06:20:46.206775Z",
     "start_time": "2025-09-24T06:20:46.200197Z"
    }
   },
   "cell_type": "code",
   "source": "print(penguins.head())",
   "id": "4677d6aa16045b23",
   "outputs": [
    {
     "name": "stdout",
     "output_type": "stream",
     "text": [
      "  species     island  bill_length_mm  bill_depth_mm  flipper_length_mm  \\\n",
      "0  Adelie  Torgersen            39.1           18.7              181.0   \n",
      "1  Adelie  Torgersen            39.5           17.4              186.0   \n",
      "2  Adelie  Torgersen            40.3           18.0              195.0   \n",
      "3  Adelie  Torgersen             NaN            NaN                NaN   \n",
      "4  Adelie  Torgersen            36.7           19.3              193.0   \n",
      "\n",
      "   body_mass_g     sex  \n",
      "0       3750.0    Male  \n",
      "1       3800.0  Female  \n",
      "2       3250.0  Female  \n",
      "3          NaN     NaN  \n",
      "4       3450.0  Female  \n"
     ]
    }
   ],
   "execution_count": 5
  },
  {
   "metadata": {},
   "cell_type": "code",
   "outputs": [],
   "execution_count": null,
   "source": [
    "class Zscore:\n",
    "\n",
    "   def __init__(self, np_columns: np.ndarray):\n",
    "        self.np_columns = np_columns\n",
    "       \n",
    "   def get_score(self, x):\n",
    "       pass\n",
    "\n",
    "   def get_average_score(self, x):\n",
    "       pass"
   ],
   "id": "2a310e8f4e178be4"
  },
  {
   "metadata": {},
   "cell_type": "code",
   "outputs": [],
   "execution_count": null,
   "source": "zscore = Zscore(penguins['flipper_length_mm'].to_numpy())",
   "id": "e092ad493ed33906"
  }
 ],
 "metadata": {
  "kernelspec": {
   "display_name": "Python 3",
   "language": "python",
   "name": "python3"
  },
  "language_info": {
   "codemirror_mode": {
    "name": "ipython",
    "version": 2
   },
   "file_extension": ".py",
   "mimetype": "text/x-python",
   "name": "python",
   "nbconvert_exporter": "python",
   "pygments_lexer": "ipython2",
   "version": "2.7.6"
  }
 },
 "nbformat": 4,
 "nbformat_minor": 5
}
